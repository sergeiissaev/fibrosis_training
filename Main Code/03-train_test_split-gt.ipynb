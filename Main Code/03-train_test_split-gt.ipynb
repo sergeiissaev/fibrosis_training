{
 "cells": [
  {
   "cell_type": "markdown",
   "metadata": {},
   "source": [
    "# Using Deep Learning to Quantify Fibrosis in Muscle Tissue\n",
    "## Performing Train-Test Split\n",
    "## By Sergei Issaev\n",
    "\n",
    "### Import libraries"
   ]
  },
  {
   "cell_type": "code",
   "execution_count": 5,
   "metadata": {},
   "outputs": [
    {
     "name": "stdout",
     "output_type": "stream",
     "text": [
      "Environment Ready\n"
     ]
    }
   ],
   "source": [
    "# load, split and scale the maps dataset ready for training\n",
    "from os import listdir\n",
    "import numpy as np\n",
    "import glob\n",
    "from numpy import asarray\n",
    "from numpy import load\n",
    "from numpy import vstack\n",
    "from keras.preprocessing.image import img_to_array\n",
    "from keras.preprocessing.image import load_img\n",
    "from numpy import savez_compressed\n",
    "from matplotlib import pyplot\n",
    "from sklearn.model_selection import train_test_split\n",
    "import os\n",
    "RANDOM_STATE = 42\n",
    "print('Environment Ready')"
   ]
  },
  {
   "cell_type": "markdown",
   "metadata": {},
   "source": [
    "### Load in all npz files"
   ]
  },
  {
   "cell_type": "code",
   "execution_count": 2,
   "metadata": {},
   "outputs": [],
   "source": [
    "uno = '/home/sergei/projects/def-rogertam/sergei/micro_scans/data/zippeddata/bright/FR94_45D7_TA_L_4_X10.tif/Tile1fascia.npz'\n",
    "dos = '/home/sergei/projects/def-rogertam/sergei/micro_scans/data/zippeddata/bright/FR94_45D7_TA_L_4_X10.tif/Tile2fascia.npz'\n",
    "cinco = '/home/sergei/projects/def-rogertam/sergei/micro_scans/data/zippeddata/bright/FR94_45D7_TA_L_4_X10.tif/Tile3fascia.npz'\n",
    "\n",
    "eleven = '/home/sergei/projects/def-rogertam/sergei/micro_scans/data/zippeddata/bright/FR94_45D7_TA_R_4_X10.tif/Tile3fascia.npz'\n",
    "twelve = '/home/sergei/projects/def-rogertam/sergei/micro_scans/data/zippeddata/bright/FR94_45D7_TA_R_4_X10.tif/Tile2fascia.npz'\n",
    "thirteen = '/home/sergei/projects/def-rogertam/sergei/micro_scans/data/zippeddata/bright/FR94_45D7_TA_R_4_X10.tif/Tile1fascia.npz'\n",
    "\n",
    "seze = '/home/sergei/projects/def-rogertam/sergei/micro_scans/data/zippeddata/regular/DMSO_87C2_Dia_PSR_X10fascia.npz'\n",
    "siete = '/home/sergei/projects/def-rogertam/sergei/micro_scans/data/zippeddata/regular/DMSO_89C5_Dia_PSR_X10fascia.npz'\n",
    "ocho = '/home/sergei/projects/def-rogertam/sergei/micro_scans/data/zippeddata/regular/DMSO87C8DiaPSRX10fascia.npz'\n",
    "nueve = '/home/sergei/projects/def-rogertam/sergei/micro_scans/data/zippeddata/regular/DMSO89C4DiaPSRX10fascia.npz'\n",
    "sergei = '/home/sergei/projects/def-rogertam/sergei/micro_scans/data/zippeddata/regular/DMSO90C4DiaPSRX10fascia.npz'\n",
    "\n",
    "fourteen = '/home/sergei/projects/def-rogertam/sergei/micro_scans/data/zippeddata/dark/FR94_45D7_TA_L_3_X10.tif/Tile1fascia.npz'\n",
    "fifteen = '/home/sergei/projects/def-rogertam/sergei/micro_scans/data/zippeddata/dark/FR94_45D7_TA_L_3_X10.tif/Tile2fascia.npz'\n",
    "sixteen = '/home/sergei/projects/def-rogertam/sergei/micro_scans/data/zippeddata/dark/FR94_45D7_TA_L_3_X10.tif/Tile3fascia.npz'\n",
    "\n",
    "tres = '/home/sergei/projects/def-rogertam/sergei/micro_scans/data/zippeddata/dark/FR94_45D7_TA_R_3_X10.tif/Tile1fascia.npz'\n",
    "quatro = '/home/sergei/projects/def-rogertam/sergei/micro_scans/data/zippeddata/dark/FR94_45D7_TA_R_3_X10.tif/Tile2fascia.npz'\n",
    "diece = '/home/sergei/projects/def-rogertam/sergei/micro_scans/data/zippeddata/dark/FR94_45D7_TA_R_3_X10.tif/Tile3fascia.npz'\n",
    "\n",
    "yi = '/home/sergei/projects/def-rogertam/sergei/micro_scans/data/zippeddata/bad_stain/5a1/Tile1fascia.npz'\n",
    "er = '/home/sergei/projects/def-rogertam/sergei/micro_scans/data/zippeddata/bad_stain/5a1/Tile2fascia.npz'\n",
    "san = '/home/sergei/projects/def-rogertam/sergei/micro_scans/data/zippeddata/bad_stain/5a1/Tile3fascia.npz'\n",
    "shi = '/home/sergei/projects/def-rogertam/sergei/micro_scans/data/zippeddata/bad_stain/5a1/Tile4fascia.npz'\n",
    "wu = '/home/sergei/projects/def-rogertam/sergei/micro_scans/data/zippeddata/bad_stain/5a1/Tile5fascia.npz'\n",
    "liu = '/home/sergei/projects/def-rogertam/sergei/micro_scans/data/zippeddata/bad_stain/5a1/Tile6fascia.npz'\n",
    "\n",
    "bin = '/home/sergei/projects/def-rogertam/sergei/micro_scans/data/zippeddata/ben/A1fascia.npz'\n",
    "sin = '/home/sergei/projects/def-rogertam/sergei/micro_scans/data/zippeddata/ben/D1fascia.npz'\n",
    "tin = '/home/sergei/projects/def-rogertam/sergei/micro_scans/data/zippeddata/ben/C1fascia.npz'\n",
    "cin = '/home/sergei/projects/def-rogertam/sergei/micro_scans/data/zippeddata/ben/B1fascia.npz'\n",
    "kin = '/home/sergei/projects/def-rogertam/sergei/micro_scans/data/zippeddata/ben/E1fascia.npz'\n",
    "fin = '/home/sergei/projects/def-rogertam/sergei/micro_scans/data/zippeddata/ben/F1fascia.npz'\n",
    "win = '/home/sergei/projects/def-rogertam/sergei/micro_scans/data/zippeddata/ben/G1fascia.npz'\n",
    "lin = '/home/sergei/projects/def-rogertam/sergei/micro_scans/data/zippeddata/ben/H1fascia.npz'\n",
    "\n",
    "alpha = '/home/sergei/projects/def-rogertam/sergei/micro_scans/data/zippeddata/liver/LH106_PSR_10x_1fascia.npz'\n",
    "beta = '/home/sergei/projects/def-rogertam/sergei/micro_scans/data/zippeddata/liver/LH107_PSR_10x_1fascia.npz'\n",
    "gamma = '/home/sergei/projects/def-rogertam/sergei/micro_scans/data/zippeddata/liver/LH109_PSR_10x_1fascia.npz'\n",
    "delta = '/home/sergei/projects/def-rogertam/sergei/micro_scans/data/zippeddata/liver/LH111_PSR_10x_1fascia.npz'\n",
    "epsilon = '/home/sergei/projects/def-rogertam/sergei/micro_scans/data/zippeddata/liver/LH118_PSR_10x_1fascia.npz'\n",
    "zeta = '/home/sergei/projects/def-rogertam/sergei/micro_scans/data/zippeddata/liver/LH119_PSR_10x_1fascia.npz'\n",
    "eta = '/home/sergei/projects/def-rogertam/sergei/micro_scans/data/zippeddata/liver/LH120_PSR_10x_1fascia.npz'\n",
    "theta = '/home/sergei/projects/def-rogertam/sergei/micro_scans/data/zippeddata/liver/LH121_PSR_10x_1fascia.npz'"
   ]
  },
  {
   "cell_type": "code",
   "execution_count": 3,
   "metadata": {},
   "outputs": [],
   "source": [
    "gt_list = []\n",
    "gt_list.append('/home/sergei/projects/def-rogertam/sergei/micro_scans/data/zippeddata_gt/regular/DMSO87C8DiaPSRX10fascia.npz')\n",
    "gt_list.append('/home/sergei/projects/def-rogertam/sergei/micro_scans/data/zippeddata_gt/regular/DMSO89C4DiaPSRX10fascia.npz')\n",
    "gt_list.append('/home/sergei/projects/def-rogertam/sergei/micro_scans/data/zippeddata_gt/regular/DMSO90C4DiaPSRX10fascia.npz')\n",
    "gt_list.append('/home/sergei/projects/def-rogertam/sergei/micro_scans/data/zippeddata_gt/regular/DMSO_87C2_Dia_PSR_X10fascia.npz')\n",
    "gt_list.append('/home/sergei/projects/def-rogertam/sergei/micro_scans/data/zippeddata_gt/regular/DMSO_89C5_Dia_PSR_X10fascia.npz')"
   ]
  },
  {
   "cell_type": "code",
   "execution_count": 11,
   "metadata": {},
   "outputs": [
    {
     "name": "stdout",
     "output_type": "stream",
     "text": [
      "/home/sergei/projects/def-rogertam/sergei/micro_scans/data/zippeddata_gt/bad_stain/5a1/Tile5fascia.npz\n",
      "/home/sergei/projects/def-rogertam/sergei/micro_scans/data/zippeddata_gt/bad_stain/5a1/Tile3fascia.npz\n",
      "/home/sergei/projects/def-rogertam/sergei/micro_scans/data/zippeddata_gt/bad_stain/5a1/Tile1fascia.npz\n",
      "/home/sergei/projects/def-rogertam/sergei/micro_scans/data/zippeddata_gt/bad_stain/5a1/Tile6fascia.npz\n",
      "/home/sergei/projects/def-rogertam/sergei/micro_scans/data/zippeddata_gt/bad_stain/5a1/Tile2fascia.npz\n",
      "/home/sergei/projects/def-rogertam/sergei/micro_scans/data/zippeddata_gt/bad_stain/5a1/Tile4fascia.npz\n",
      "/home/sergei/projects/def-rogertam/sergei/micro_scans/data/zippeddata_gt/regular/DMSO_89C5_Dia_PSR_X10fascia.npz\n",
      "/home/sergei/projects/def-rogertam/sergei/micro_scans/data/zippeddata_gt/regular/DMSO87C8DiaPSRX10fascia.npz\n",
      "/home/sergei/projects/def-rogertam/sergei/micro_scans/data/zippeddata_gt/regular/DMSO89C4DiaPSRX10fascia.npz\n",
      "/home/sergei/projects/def-rogertam/sergei/micro_scans/data/zippeddata_gt/regular/DMSO_87C2_Dia_PSR_X10fascia.npz\n",
      "/home/sergei/projects/def-rogertam/sergei/micro_scans/data/zippeddata_gt/regular/DMSO90C4DiaPSRX10fascia.npz\n",
      "/home/sergei/projects/def-rogertam/sergei/micro_scans/data/zippeddata_gt/ben/C1gt2fascia.npz\n",
      "/home/sergei/projects/def-rogertam/sergei/micro_scans/data/zippeddata_gt/ben/G1gt2fascia.npz\n",
      "/home/sergei/projects/def-rogertam/sergei/micro_scans/data/zippeddata_gt/ben/F1gt2fascia.npz\n",
      "/home/sergei/projects/def-rogertam/sergei/micro_scans/data/zippeddata_gt/ben/E1gt2fascia.npz\n",
      "/home/sergei/projects/def-rogertam/sergei/micro_scans/data/zippeddata_gt/ben/D1gt2fascia.npz\n",
      "/home/sergei/projects/def-rogertam/sergei/micro_scans/data/zippeddata_gt/ben/A1gt2fascia.npz\n",
      "/home/sergei/projects/def-rogertam/sergei/micro_scans/data/zippeddata_gt/ben/B1gt2fascia.npz\n",
      "/home/sergei/projects/def-rogertam/sergei/micro_scans/data/zippeddata_gt/ben/H1gt2fascia.npz\n",
      "/home/sergei/projects/def-rogertam/sergei/micro_scans/data/zippeddata_gt/dark/FR94_45D7_TA_R_3_X10.tif/Tile3fascia.npz\n",
      "/home/sergei/projects/def-rogertam/sergei/micro_scans/data/zippeddata_gt/dark/FR94_45D7_TA_R_3_X10.tif/Tile1fascia.npz\n",
      "/home/sergei/projects/def-rogertam/sergei/micro_scans/data/zippeddata_gt/dark/FR94_45D7_TA_R_3_X10.tif/Tile2fascia.npz\n",
      "/home/sergei/projects/def-rogertam/sergei/micro_scans/data/zippeddata_gt/dark/FR94_45D7_TA_R_3_X10.tif/Tile4fascia.npz\n",
      "/home/sergei/projects/def-rogertam/sergei/micro_scans/data/zippeddata_gt/dark/FR94_45D7_TA_L_3_X10.tif/Tile3fascia.npz\n",
      "/home/sergei/projects/def-rogertam/sergei/micro_scans/data/zippeddata_gt/dark/FR94_45D7_TA_L_3_X10.tif/Tile1fascia.npz\n",
      "/home/sergei/projects/def-rogertam/sergei/micro_scans/data/zippeddata_gt/dark/FR94_45D7_TA_L_3_X10.tif/Tile2fascia.npz\n",
      "/home/sergei/projects/def-rogertam/sergei/micro_scans/data/zippeddata_gt/dark/FR94_45D7_TA_L_3_X10.tif/Tile4fascia.npz\n",
      "/home/sergei/projects/def-rogertam/sergei/micro_scans/data/zippeddata_gt/bright/FR94_45D7_TA_R_4_X10.tif/Tile3fascia.npz\n",
      "/home/sergei/projects/def-rogertam/sergei/micro_scans/data/zippeddata_gt/bright/FR94_45D7_TA_R_4_X10.tif/Tile1fascia.npz\n",
      "/home/sergei/projects/def-rogertam/sergei/micro_scans/data/zippeddata_gt/bright/FR94_45D7_TA_R_4_X10.tif/Tile2fascia.npz\n",
      "/home/sergei/projects/def-rogertam/sergei/micro_scans/data/zippeddata_gt/bright/FR94_45D7_TA_R_4_X10.tif/Tile4fascia.npz\n",
      "/home/sergei/projects/def-rogertam/sergei/micro_scans/data/zippeddata_gt/bright/FR94_45D7_TA_L_4_X10.tif/Tile3fascia.npz\n",
      "/home/sergei/projects/def-rogertam/sergei/micro_scans/data/zippeddata_gt/bright/FR94_45D7_TA_L_4_X10.tif/Tile1fascia.npz\n",
      "/home/sergei/projects/def-rogertam/sergei/micro_scans/data/zippeddata_gt/bright/FR94_45D7_TA_L_4_X10.tif/Tile2fascia.npz\n",
      "/home/sergei/projects/def-rogertam/sergei/micro_scans/data/zippeddata_gt/bright/FR94_45D7_TA_L_4_X10.tif/Tile4fascia.npz\n"
     ]
    }
   ],
   "source": [
    "import glob\n",
    "all_gt = []\n",
    "# root_dir needs a trailing slash (i.e. /root/dir/)\n",
    "for filename in glob.iglob('/home/sergei/projects/def-rogertam/sergei/micro_scans/data/zippeddata_gt/' + '**/*.npz', recursive=True):\n",
    "    print(filename)\n",
    "    all_gt.append(filename)"
   ]
  },
  {
   "cell_type": "code",
   "execution_count": 13,
   "metadata": {},
   "outputs": [],
   "source": [
    "ab_list = []\n",
    "ab01 = '/home/sergei/projects/def-rogertam/sergei/micro_scans/data/zippeddata/ben/A2fascia.npz'\n",
    "ab_list.append(ab01)\n",
    "ab02 = '/home/sergei/projects/def-rogertam/sergei/micro_scans/data/zippeddata/ben/A3fascia.npz'\n",
    "ab_list.append(ab02)\n",
    "ab03 = '/home/sergei/projects/def-rogertam/sergei/micro_scans/data/zippeddata/ben/A6fascia.npz'\n",
    "ab_list.append(ab03)\n",
    "ab04 = '/home/sergei/projects/def-rogertam/sergei/micro_scans/data/zippeddata/ben/A7fascia.npz'\n",
    "ab_list.append(ab04)\n",
    "ab05 = '/home/sergei/projects/def-rogertam/sergei/micro_scans/data/zippeddata/ben/A8fascia.npz'\n",
    "ab_list.append(ab05)\n",
    "ab06 = '/home/sergei/projects/def-rogertam/sergei/micro_scans/data/zippeddata/ben/A9fascia.npz'\n",
    "ab_list.append(ab06)\n",
    "ab07 = '/home/sergei/projects/def-rogertam/sergei/micro_scans/data/zippeddata/ben/B2fascia.npz'\n",
    "ab_list.append(ab07)\n",
    "ab08 = '/home/sergei/projects/def-rogertam/sergei/micro_scans/data/zippeddata/ben/B3fascia.npz'\n",
    "ab_list.append(ab08)\n",
    "ab09 = '/home/sergei/projects/def-rogertam/sergei/micro_scans/data/zippeddata/ben/B4fascia.npz'\n",
    "ab_list.append(ab09)\n",
    "ab10 = '/home/sergei/projects/def-rogertam/sergei/micro_scans/data/zippeddata/ben/B5fascia.npz'\n",
    "ab_list.append(ab01)\n",
    "ab11 = '/home/sergei/projects/def-rogertam/sergei/micro_scans/data/zippeddata/ben/B6fascia.npz'\n",
    "ab_list.append(ab11)\n",
    "ab12 = '/home/sergei/projects/def-rogertam/sergei/micro_scans/data/zippeddata/ben/B8fascia.npz'\n",
    "ab_list.append(ab12)\n",
    "ab13 = '/home/sergei/projects/def-rogertam/sergei/micro_scans/data/zippeddata/ben/C2fascia.npz'\n",
    "ab_list.append(ab13)\n",
    "ab14 = '/home/sergei/projects/def-rogertam/sergei/micro_scans/data/zippeddata/ben/C3fascia.npz'\n",
    "ab_list.append(ab14)\n",
    "ab15 = '/home/sergei/projects/def-rogertam/sergei/micro_scans/data/zippeddata/ben/C4fascia.npz'\n",
    "ab_list.append(ab15)\n",
    "ab16 = '/home/sergei/projects/def-rogertam/sergei/micro_scans/data/zippeddata/ben/C5fascia.npz'\n",
    "ab_list.append(ab16)\n",
    "ab17 = '/home/sergei/projects/def-rogertam/sergei/micro_scans/data/zippeddata/ben/C6fascia.npz'\n",
    "ab_list.append(ab17)\n",
    "ab18 = '/home/sergei/projects/def-rogertam/sergei/micro_scans/data/zippeddata/ben/C7fascia.npz'\n",
    "ab_list.append(ab18)\n",
    "ab19 = '/home/sergei/projects/def-rogertam/sergei/micro_scans/data/zippeddata/ben/C8fascia.npz'\n",
    "ab_list.append(ab19)\n",
    "ab21 = '/home/sergei/projects/def-rogertam/sergei/micro_scans/data/zippeddata/ben/D2fascia.npz'\n",
    "ab_list.append(ab21)\n",
    "ab22 = '/home/sergei/projects/def-rogertam/sergei/micro_scans/data/zippeddata/ben/D3fascia.npz'\n",
    "ab_list.append(ab22)\n",
    "ab23 = '/home/sergei/projects/def-rogertam/sergei/micro_scans/data/zippeddata/ben/D4fascia.npz'\n",
    "ab_list.append(ab23)\n",
    "ab24 = '/home/sergei/projects/def-rogertam/sergei/micro_scans/data/zippeddata/ben/D5fascia.npz'\n",
    "ab_list.append(ab24)\n",
    "ab25 = '/home/sergei/projects/def-rogertam/sergei/micro_scans/data/zippeddata/ben/D6fascia.npz'\n",
    "ab_list.append(ab25)\n",
    "ab26 = '/home/sergei/projects/def-rogertam/sergei/micro_scans/data/zippeddata/ben/D7fascia.npz'\n",
    "ab_list.append(ab26)\n",
    "ab27 = '/home/sergei/projects/def-rogertam/sergei/micro_scans/data/zippeddata/ben/D8fascia.npz'\n",
    "ab_list.append(ab27)\n",
    "ab31 = '/home/sergei/projects/def-rogertam/sergei/micro_scans/data/zippeddata/ben/E2fascia.npz'\n",
    "ab_list.append(ab31)\n",
    "ab32 = '/home/sergei/projects/def-rogertam/sergei/micro_scans/data/zippeddata/ben/E2fascia.npz'\n",
    "ab_list.append(ab32)\n",
    "ab33 = '/home/sergei/projects/def-rogertam/sergei/micro_scans/data/zippeddata/ben/E3fascia.npz'\n",
    "ab_list.append(ab33)\n",
    "ab34 = '/home/sergei/projects/def-rogertam/sergei/micro_scans/data/zippeddata/ben/E4fascia.npz'\n",
    "ab_list.append(ab34)\n",
    "ab35 = '/home/sergei/projects/def-rogertam/sergei/micro_scans/data/zippeddata/ben/E7fascia.npz'\n",
    "ab_list.append(ab35)\n",
    "ab36 = '/home/sergei/projects/def-rogertam/sergei/micro_scans/data/zippeddata/ben/E8fascia.npz'\n",
    "ab_list.append(ab36)\n",
    "ab41 = '/home/sergei/projects/def-rogertam/sergei/micro_scans/data/zippeddata/ben/F2fascia.npz'\n",
    "ab_list.append(ab41)\n",
    "ab42 = '/home/sergei/projects/def-rogertam/sergei/micro_scans/data/zippeddata/ben/F3fascia.npz'\n",
    "ab_list.append(ab42)\n",
    "ab43 = '/home/sergei/projects/def-rogertam/sergei/micro_scans/data/zippeddata/ben/F4fascia.npz'\n",
    "ab_list.append(ab43)\n",
    "ab44 = '/home/sergei/projects/def-rogertam/sergei/micro_scans/data/zippeddata/ben/F6fascia.npz'\n",
    "ab_list.append(ab44)\n",
    "ab45 = '/home/sergei/projects/def-rogertam/sergei/micro_scans/data/zippeddata/ben/F7fascia.npz'\n",
    "ab_list.append(ab45)\n",
    "ab46 = '/home/sergei/projects/def-rogertam/sergei/micro_scans/data/zippeddata/ben/F8fascia.npz'\n",
    "ab_list.append(ab46)\n",
    "ab47 = '/home/sergei/projects/def-rogertam/sergei/micro_scans/data/zippeddata/ben/F9fascia.npz'\n",
    "ab_list.append(ab47)\n",
    "ab51 = '/home/sergei/projects/def-rogertam/sergei/micro_scans/data/zippeddata/ben/G2fascia.npz'\n",
    "ab_list.append(ab51)\n",
    "ab52 = '/home/sergei/projects/def-rogertam/sergei/micro_scans/data/zippeddata/ben/G3fascia.npz'\n",
    "ab_list.append(ab52)\n",
    "ab53 = '/home/sergei/projects/def-rogertam/sergei/micro_scans/data/zippeddata/ben/G4fascia.npz'\n",
    "ab_list.append(ab53)\n",
    "ab54 = '/home/sergei/projects/def-rogertam/sergei/micro_scans/data/zippeddata/ben/G5fascia.npz'\n",
    "ab_list.append(ab54)\n",
    "ab55 = '/home/sergei/projects/def-rogertam/sergei/micro_scans/data/zippeddata/ben/G6fascia.npz'\n",
    "ab_list.append(ab55)\n",
    "ab56 = '/home/sergei/projects/def-rogertam/sergei/micro_scans/data/zippeddata/ben/G7fascia.npz'\n",
    "ab_list.append(ab56)\n",
    "ab60 = '/home/sergei/projects/def-rogertam/sergei/micro_scans/data/zippeddata/ben/H2fascia.npz'\n",
    "ab_list.append(ab60)\n",
    "ab61 = '/home/sergei/projects/def-rogertam/sergei/micro_scans/data/zippeddata/ben/H3fascia.npz'\n",
    "ab_list.append(ab61)\n",
    "ab62 = '/home/sergei/projects/def-rogertam/sergei/micro_scans/data/zippeddata/ben/H4fascia.npz'\n",
    "ab_list.append(ab62)\n",
    "ab63 = '/home/sergei/projects/def-rogertam/sergei/micro_scans/data/zippeddata/ben/H5fascia.npz'\n",
    "ab_list.append(ab63)"
   ]
  },
  {
   "cell_type": "markdown",
   "metadata": {},
   "source": [
    "### Test data"
   ]
  },
  {
   "cell_type": "code",
   "execution_count": 12,
   "metadata": {},
   "outputs": [],
   "source": [
    "all_files = all_gt"
   ]
  },
  {
   "cell_type": "markdown",
   "metadata": {},
   "source": [
    "all_files = [uno, dos, cinco, eleven, twelve, thirteen, seze, siete, ocho, nueve, fourteen, fifteen, sixteen, tres, quatro, diece]"
   ]
  },
  {
   "cell_type": "markdown",
   "metadata": {},
   "source": [
    "bad_stain = [yi, er, san, shi, wu, liu]"
   ]
  },
  {
   "cell_type": "markdown",
   "metadata": {},
   "source": [
    "all_files = [seze, siete, ocho, nueve, bin, sin, tin, cin, kin, fin, win, lin]"
   ]
  },
  {
   "cell_type": "markdown",
   "metadata": {},
   "source": [
    "all_files = [uno, dos, cinco, eleven, twelve, thirteen, seze, siete, ocho, nueve, fourteen, fifteen, sixteen, tres, quatro, diece, yi, er, san, shi, wu, liu, bin, sin, tin, cin, kin, fin, win, lin]"
   ]
  },
  {
   "cell_type": "markdown",
   "metadata": {},
   "source": [
    "### Clean"
   ]
  },
  {
   "cell_type": "markdown",
   "metadata": {},
   "source": [
    "all_files = [alpha, beta, gamma, delta, epsilon, zeta, eta, theta, sergei, uno, dos, cinco, eleven, twelve, thirteen, seze, siete, ocho, nueve, fifteen, sixteen, tres, quatro, diece, yi, san, shi, wu, liu, bin, sin, tin, cin, kin, fin, win, lin]"
   ]
  },
  {
   "cell_type": "markdown",
   "metadata": {},
   "source": [
    "all_files = [sergei, uno, dos, cinco, eleven, twelve, thirteen, seze, siete, ocho, nueve, fifteen, sixteen, tres, quatro, diece, yi, san, shi, wu, liu, bin, sin, tin, cin, kin, fin, win, lin]"
   ]
  },
  {
   "cell_type": "markdown",
   "metadata": {},
   "source": [
    "### Only liver"
   ]
  },
  {
   "cell_type": "markdown",
   "metadata": {},
   "source": [
    "all_files = [alpha, beta, gamma, delta, epsilon, zeta, eta, theta]"
   ]
  },
  {
   "cell_type": "markdown",
   "metadata": {},
   "source": [
    "### Only TA"
   ]
  },
  {
   "cell_type": "markdown",
   "metadata": {},
   "source": [
    "all_files = [uno, dos, cinco, eleven, twelve, thirteen, fourteen, fifteen, sixteen, tres, quatro, diece, yi, er, san, shi, wu, liu]"
   ]
  },
  {
   "cell_type": "markdown",
   "metadata": {},
   "source": [
    "### Only diaphragms"
   ]
  },
  {
   "cell_type": "markdown",
   "metadata": {},
   "source": [
    "all_files = [seze, siete, ocho, nueve, sergei, bin, sin, tin, cin, kin, fin, win, lin]"
   ]
  },
  {
   "cell_type": "markdown",
   "metadata": {},
   "source": [
    "all_files = [ab01,ab02,ab03,ab04,ab05,ab06,ab07,ab08,ab09,ab10,ab11,ab12,ab13,ab14,ab15,ab16,ab17,ab18,ab19]"
   ]
  },
  {
   "cell_type": "code",
   "execution_count": 13,
   "metadata": {},
   "outputs": [
    {
     "name": "stdout",
     "output_type": "stream",
     "text": [
      "Loaded:  (2, 256, 256, 3) (2, 256, 256, 3)\n"
     ]
    }
   ],
   "source": [
    "file = all_files[0]\n",
    "data1 = load(file)\n",
    "src_images1, tar_images1 = data1['arr_0'], data1['arr_1']\n",
    "print('Loaded: ', src_images1.shape, tar_images1.shape)\n",
    "src_images_total = src_images1\n",
    "tar_images_total = tar_images1"
   ]
  },
  {
   "cell_type": "code",
   "execution_count": 14,
   "metadata": {},
   "outputs": [
    {
     "name": "stdout",
     "output_type": "stream",
     "text": [
      "Loaded:  (2, 256, 256, 3) (2, 256, 256, 3)\n",
      "Total:  (4, 256, 256, 3) (4, 256, 256, 3)\n",
      "Loaded:  (2, 256, 256, 3) (2, 256, 256, 3)\n",
      "Total:  (6, 256, 256, 3) (6, 256, 256, 3)\n",
      "Loaded:  (2, 256, 256, 3) (2, 256, 256, 3)\n",
      "Total:  (8, 256, 256, 3) (8, 256, 256, 3)\n",
      "Loaded:  (2, 256, 256, 3) (2, 256, 256, 3)\n",
      "Total:  (10, 256, 256, 3) (10, 256, 256, 3)\n",
      "Loaded:  (2, 256, 256, 3) (2, 256, 256, 3)\n",
      "Total:  (12, 256, 256, 3) (12, 256, 256, 3)\n",
      "Loaded:  (117, 256, 256, 3) (117, 256, 256, 3)\n",
      "Total:  (129, 256, 256, 3) (129, 256, 256, 3)\n",
      "Loaded:  (106, 256, 256, 3) (106, 256, 256, 3)\n",
      "Total:  (235, 256, 256, 3) (235, 256, 256, 3)\n",
      "Loaded:  (139, 256, 256, 3) (139, 256, 256, 3)\n",
      "Total:  (374, 256, 256, 3) (374, 256, 256, 3)\n",
      "Loaded:  (164, 256, 256, 3) (164, 256, 256, 3)\n",
      "Total:  (538, 256, 256, 3) (538, 256, 256, 3)\n",
      "Loaded:  (136, 256, 256, 3) (136, 256, 256, 3)\n",
      "Total:  (674, 256, 256, 3) (674, 256, 256, 3)\n",
      "Loaded:  (258, 256, 256, 3) (258, 256, 256, 3)\n",
      "Total:  (932, 256, 256, 3) (932, 256, 256, 3)\n",
      "Loaded:  (74, 256, 256, 3) (74, 256, 256, 3)\n",
      "Total:  (1006, 256, 256, 3) (1006, 256, 256, 3)\n",
      "Loaded:  (23, 256, 256, 3) (23, 256, 256, 3)\n",
      "Total:  (1029, 256, 256, 3) (1029, 256, 256, 3)\n",
      "Loaded:  (28, 256, 256, 3) (28, 256, 256, 3)\n",
      "Total:  (1057, 256, 256, 3) (1057, 256, 256, 3)\n",
      "Loaded:  (12, 256, 256, 3) (12, 256, 256, 3)\n",
      "Total:  (1069, 256, 256, 3) (1069, 256, 256, 3)\n",
      "Loaded:  (32, 256, 256, 3) (32, 256, 256, 3)\n",
      "Total:  (1101, 256, 256, 3) (1101, 256, 256, 3)\n",
      "Loaded:  (359, 256, 256, 3) (359, 256, 256, 3)\n",
      "Total:  (1460, 256, 256, 3) (1460, 256, 256, 3)\n",
      "Loaded:  (26, 256, 256, 3) (26, 256, 256, 3)\n",
      "Total:  (1486, 256, 256, 3) (1486, 256, 256, 3)\n",
      "Loaded:  (15, 256, 256, 3) (15, 256, 256, 3)\n",
      "Total:  (1501, 256, 256, 3) (1501, 256, 256, 3)\n",
      "Loaded:  (15, 256, 256, 3) (15, 256, 256, 3)\n",
      "Total:  (1516, 256, 256, 3) (1516, 256, 256, 3)\n",
      "Loaded:  (15, 256, 256, 3) (15, 256, 256, 3)\n",
      "Total:  (1531, 256, 256, 3) (1531, 256, 256, 3)\n",
      "Loaded:  (15, 256, 256, 3) (15, 256, 256, 3)\n",
      "Total:  (1546, 256, 256, 3) (1546, 256, 256, 3)\n",
      "Loaded:  (15, 256, 256, 3) (15, 256, 256, 3)\n",
      "Total:  (1561, 256, 256, 3) (1561, 256, 256, 3)\n",
      "Loaded:  (15, 256, 256, 3) (15, 256, 256, 3)\n",
      "Total:  (1576, 256, 256, 3) (1576, 256, 256, 3)\n",
      "Loaded:  (15, 256, 256, 3) (15, 256, 256, 3)\n",
      "Total:  (1591, 256, 256, 3) (1591, 256, 256, 3)\n",
      "Loaded:  (15, 256, 256, 3) (15, 256, 256, 3)\n",
      "Total:  (1606, 256, 256, 3) (1606, 256, 256, 3)\n",
      "Loaded:  (15, 256, 256, 3) (15, 256, 256, 3)\n",
      "Total:  (1621, 256, 256, 3) (1621, 256, 256, 3)\n",
      "Loaded:  (15, 256, 256, 3) (15, 256, 256, 3)\n",
      "Total:  (1636, 256, 256, 3) (1636, 256, 256, 3)\n",
      "Loaded:  (15, 256, 256, 3) (15, 256, 256, 3)\n",
      "Total:  (1651, 256, 256, 3) (1651, 256, 256, 3)\n",
      "Loaded:  (15, 256, 256, 3) (15, 256, 256, 3)\n",
      "Total:  (1666, 256, 256, 3) (1666, 256, 256, 3)\n",
      "Loaded:  (15, 256, 256, 3) (15, 256, 256, 3)\n",
      "Total:  (1681, 256, 256, 3) (1681, 256, 256, 3)\n",
      "Loaded:  (15, 256, 256, 3) (15, 256, 256, 3)\n",
      "Total:  (1696, 256, 256, 3) (1696, 256, 256, 3)\n",
      "Loaded:  (15, 256, 256, 3) (15, 256, 256, 3)\n",
      "Total:  (1711, 256, 256, 3) (1711, 256, 256, 3)\n",
      "Loaded:  (15, 256, 256, 3) (15, 256, 256, 3)\n",
      "Total:  (1726, 256, 256, 3) (1726, 256, 256, 3)\n"
     ]
    }
   ],
   "source": [
    "for file in all_files[1:]:\n",
    "    data1 = load(file)\n",
    "    src_images1, tar_images1 = data1['arr_0'], data1['arr_1']\n",
    "    print('Loaded: ', src_images1.shape, tar_images1.shape)  \n",
    "    src_images_total = np.concatenate((src_images_total, src_images1))\n",
    "    tar_images_total = np.concatenate((tar_images_total, tar_images1))\n",
    "    print('Total: ', src_images_total.shape, tar_images_total.shape)"
   ]
  },
  {
   "cell_type": "markdown",
   "metadata": {},
   "source": [
    "stains = bad_stain[0]\n",
    "stain_data = load(stains)\n",
    "src_bad, tar_bad = stain_data['arr_0'], stain_data['arr_1']\n",
    "print('Loaded: ', src_bad.shape, tar_bad.shape)\n",
    "src_bad_total = src_bad\n",
    "tar_bad_total = tar_bad"
   ]
  },
  {
   "cell_type": "markdown",
   "metadata": {},
   "source": [
    "for stains in bad_stain[1:]:\n",
    "    stain_data = load(stains)\n",
    "    src_bad, tar_bad = stain_data['arr_0'], stain_data['arr_1']\n",
    "    print('Loaded: ', src_bad.shape, tar_bad.shape)  \n",
    "    src_bad_total = np.concatenate((src_bad_total, src_bad))\n",
    "    tar_bad_total = np.concatenate((tar_bad_total, tar_bad))\n",
    "    print('Total: ', src_bad_total.shape, tar_bad_total.shape)"
   ]
  },
  {
   "cell_type": "markdown",
   "metadata": {},
   "source": [
    "### Compress and save dataset"
   ]
  },
  {
   "cell_type": "markdown",
   "metadata": {},
   "source": [
    "# save as compressed numpy array\n",
    "#filename = '/home/sergei/projects/def-rogertam/sergei/micro_scans/data/total.npz'\n",
    "filename = '/home/sergei/projects/def-rogertam/sergei/micro_scans/data/bad_stain.npz'\n",
    "savez_compressed(filename, src_bad_total, tar_bad_total)\n",
    "print('Saved dataset: ', filename)"
   ]
  },
  {
   "cell_type": "code",
   "execution_count": 15,
   "metadata": {},
   "outputs": [
    {
     "name": "stdout",
     "output_type": "stream",
     "text": [
      "Saved dataset:  /home/sergei/projects/def-rogertam/sergei/micro_scans/data/total.npz\n"
     ]
    }
   ],
   "source": [
    "# save as compressed numpy array\n",
    "#filename = '/home/sergei/projects/def-rogertam/sergei/micro_scans/data/total.npz'\n",
    "filename = '/home/sergei/projects/def-rogertam/sergei/micro_scans/data/total.npz'\n",
    "savez_compressed(filename, src_images_total, tar_images_total)\n",
    "print('Saved dataset: ', filename)"
   ]
  },
  {
   "cell_type": "markdown",
   "metadata": {},
   "source": [
    "### Perform train-test split"
   ]
  },
  {
   "cell_type": "code",
   "execution_count": 16,
   "metadata": {},
   "outputs": [
    {
     "name": "stdout",
     "output_type": "stream",
     "text": [
      "Loaded:  (1726, 256, 256, 3) (1726, 256, 256, 3)\n"
     ]
    }
   ],
   "source": [
    "# load the dataset\n",
    "data = load(filename)\n",
    "src_images, tar_images = data['arr_0'], data['arr_1']\n",
    "print('Loaded: ', src_images.shape, tar_images.shape)"
   ]
  },
  {
   "cell_type": "code",
   "execution_count": 17,
   "metadata": {},
   "outputs": [
    {
     "name": "stdout",
     "output_type": "stream",
     "text": [
      "Train size is  (1553, 256, 256, 3) test size is  (173, 256, 256, 3)\n"
     ]
    }
   ],
   "source": [
    "train_src, test_src, train_tar, test_tar = train_test_split(src_images, tar_images, test_size=0.10, random_state=RANDOM_STATE)\n",
    "print('Train size is ', train_src.shape, 'test size is ', test_src.shape)"
   ]
  },
  {
   "cell_type": "code",
   "execution_count": 18,
   "metadata": {},
   "outputs": [
    {
     "name": "stdout",
     "output_type": "stream",
     "text": [
      "Saved dataset:  /home/sergei/projects/def-rogertam/sergei/micro_scans/data/traintest/diaphragmsmarinefascia4/train_ali_full.npz\n"
     ]
    }
   ],
   "source": [
    "# save as compressed numpy array\n",
    "#!mkdir /home/sergei/projects/def-rogertam/sergei/micro_scans/data/traintest/diaphragmsmarinefascia4\n",
    "filename = '/home/sergei/projects/def-rogertam/sergei/micro_scans/data/traintest/diaphragmsmarinefascia4/train_ali_full.npz'\n",
    "savez_compressed(filename, train_src, train_tar)\n",
    "print('Saved dataset: ', filename)"
   ]
  },
  {
   "cell_type": "code",
   "execution_count": null,
   "metadata": {},
   "outputs": [],
   "source": []
  },
  {
   "cell_type": "code",
   "execution_count": 19,
   "metadata": {},
   "outputs": [
    {
     "name": "stdout",
     "output_type": "stream",
     "text": [
      "Saved dataset:  /home/sergei/projects/def-rogertam/sergei/micro_scans/data/traintest/diaphragmsmarinefascia4/test_ali_full.npz\n"
     ]
    }
   ],
   "source": [
    "# save as compressed numpy array\n",
    "filename = '/home/sergei/projects/def-rogertam/sergei/micro_scans/data/traintest/diaphragmsmarinefascia4/test_ali_full.npz'\n",
    "savez_compressed(filename, test_src, test_tar)\n",
    "print('Saved dataset: ', filename)"
   ]
  },
  {
   "cell_type": "code",
   "execution_count": null,
   "metadata": {},
   "outputs": [],
   "source": []
  }
 ],
 "metadata": {
  "kernelspec": {
   "display_name": "test2",
   "language": "python",
   "name": "test2"
  },
  "language_info": {
   "codemirror_mode": {
    "name": "ipython",
    "version": 3
   },
   "file_extension": ".py",
   "mimetype": "text/x-python",
   "name": "python",
   "nbconvert_exporter": "python",
   "pygments_lexer": "ipython3",
   "version": "3.7.7"
  }
 },
 "nbformat": 4,
 "nbformat_minor": 4
}
